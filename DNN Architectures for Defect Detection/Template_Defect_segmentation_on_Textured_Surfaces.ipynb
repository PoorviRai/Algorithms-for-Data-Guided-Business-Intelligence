{
  "nbformat": 4,
  "nbformat_minor": 0,
  "metadata": {
    "colab": {
      "name": "Template_Defect_segmentation_on_Textured_Surfaces.ipynb",
      "version": "0.3.2",
      "provenance": [],
      "collapsed_sections": []
    },
    "kernelspec": {
      "name": "python3",
      "display_name": "Python 3"
    },
    "accelerator": "GPU"
  },
  "cells": [
    {
      "metadata": {
        "id": "S-fSL1r2fQ7Z",
        "colab_type": "text"
      },
      "cell_type": "markdown",
      "source": [
        "We will use the Industrial Optical Inspection Dataset. \n",
        "The blocks given below will help you copy and unzip the data from google drive.\n",
        "\n",
        "---\n",
        "\n",
        "\n",
        "The dataset description can be found here : https://hci.iwr.uni-heidelberg.de/node/3616"
      ]
    },
    {
      "metadata": {
        "id": "DymbI5OJIuFF",
        "colab_type": "text"
      },
      "cell_type": "markdown",
      "source": [
        "# Google Colab\n",
        "Set the Runtime to GPU from the menu on the top left of this webpage\n",
        "\n",
        "Importing data to Google Colab"
      ]
    },
    {
      "metadata": {
        "id": "zDP8dGDEfHM2",
        "colab_type": "code",
        "colab": {
          "base_uri": "https://localhost:8080/",
          "height": 35
        },
        "outputId": "2f19e1b8-ef49-4d5f-f5f9-6dcd4618d69f"
      },
      "cell_type": "code",
      "source": [
        "from google.colab import drive\n",
        "drive.mount('/content/gdrive')"
      ],
      "execution_count": 153,
      "outputs": [
        {
          "output_type": "stream",
          "text": [
            "Drive already mounted at /content/gdrive; to attempt to forcibly remount, call drive.mount(\"/content/gdrive\", force_remount=True).\n"
          ],
          "name": "stdout"
        }
      ]
    },
    {
      "metadata": {
        "id": "3on7wPL6mBF2",
        "colab_type": "code",
        "colab": {
          "base_uri": "https://localhost:8080/",
          "height": 676
        },
        "outputId": "1f7fe80f-b66f-4f10-9ccc-a080376791ba"
      },
      "cell_type": "code",
      "source": [
        "# Copy data to google colab from google drive and unzip\n",
        "# This may take 1-2 minutes\n",
        "!cp gdrive/My\\ Drive/optical_data.zip .\n",
        "!unzip optical_data.zip"
      ],
      "execution_count": 154,
      "outputs": [
        {
          "output_type": "stream",
          "text": [
            "Archive:  optical_data.zip\n",
            "replace data/.DS_Store? [y]es, [n]o, [A]ll, [N]one, [r]ename: n\n",
            "replace __MACOSX/data/._.DS_Store? [y]es, [n]o, [A]ll, [N]one, [r]ename: n\n",
            "replace data/Class3/.DS_Store? [y]es, [n]o, [A]ll, [N]one, [r]ename: n\n",
            "replace __MACOSX/data/Class3/._.DS_Store? [y]es, [n]o, [A]ll, [N]one, [r]ename: n\n",
            "replace data/Class3/Test/0298.PNG? [y]es, [n]o, [A]ll, [N]one, [r]ename: n\n",
            "replace __MACOSX/data/Class3/Test/._0298.PNG? [y]es, [n]o, [A]ll, [N]one, [r]ename: n\n",
            "replace data/Class3/Test/0267.PNG? [y]es, [n]o, [A]ll, [N]one, [r]ename: n\n",
            "replace __MACOSX/data/Class3/Test/._0267.PNG? [y]es, [n]o, [A]ll, [N]one, [r]ename: n\n",
            "replace data/Class3/Test/0501.PNG? [y]es, [n]o, [A]ll, [N]one, [r]ename: n\n",
            "replace __MACOSX/data/Class3/Test/._0501.PNG? [y]es, [n]o, [A]ll, [N]one, [r]ename: n\n",
            "replace data/Class3/Test/0515.PNG? [y]es, [n]o, [A]ll, [N]one, [r]ename: n\n",
            "replace __MACOSX/data/Class3/Test/._0515.PNG? [y]es, [n]o, [A]ll, [N]one, [r]ename: n\n",
            "replace data/Class3/Test/0273.PNG? [y]es, [n]o, [A]ll, [N]one, [r]ename: n\n",
            "replace __MACOSX/data/Class3/Test/._0273.PNG? [y]es, [n]o, [A]ll, [N]one, [r]ename: n\n",
            "replace data/Class3/Test/0529.PNG? [y]es, [n]o, [A]ll, [N]one, [r]ename: n\n",
            "replace __MACOSX/data/Class3/Test/._0529.PNG? [y]es, [n]o, [A]ll, [N]one, [r]ename: n\n",
            "replace data/Class3/Test/0065.PNG? [y]es, [n]o, [A]ll, [N]one, [r]ename: n\n",
            "replace __MACOSX/data/Class3/Test/._0065.PNG? [y]es, [n]o, [A]ll, [N]one, [r]ename: n\n",
            "replace data/Class3/Test/0071.PNG? [y]es, [n]o, [A]ll, [N]one, [r]ename: n\n",
            "replace __MACOSX/data/Class3/Test/._0071.PNG? [y]es, [n]o, [A]ll, [N]one, [r]ename: n\n",
            "replace data/Class3/Test/0059.PNG? [y]es, [n]o, [A]ll, [N]one, [r]ename: n\n",
            "replace __MACOSX/data/Class3/Test/._0059.PNG? [y]es, [n]o, [A]ll, [N]one, [r]ename: n\n",
            "replace data/Class3/Test/0111.PNG? [y]es, [n]o, [A]ll, [N]one, [r]ename: n\n",
            "replace __MACOSX/data/Class3/Test/._0111.PNG? [y]es, [n]o, [A]ll, [N]one, [r]ename: n\n",
            "replace data/Class3/Test/0105.PNG? [y]es, [n]o, [A]ll, [N]one, [r]ename: n\n",
            "replace __MACOSX/data/Class3/Test/._0105.PNG? [y]es, [n]o, [A]ll, [N]one, [r]ename: n\n",
            "replace data/Class3/Test/0139.PNG? [y]es, [n]o, [A]ll, [N]one, [r]ename: n\n",
            "replace __MACOSX/data/Class3/Test/._0139.PNG? [y]es, [n]o, [A]ll, [N]one, [r]ename: n\n",
            "replace data/Class3/Test/0313.PNG? [y]es, [n]o, [A]ll, [N]one, [r]ename: n\n",
            "replace __MACOSX/data/Class3/Test/._0313.PNG? [y]es, [n]o, [A]ll, [N]one, [r]ename: n\n",
            "replace data/Class3/Test/0475.PNG? [y]es, [n]o, [A]ll, [N]one, [r]ename: n\n",
            "replace __MACOSX/data/Class3/Test/._0475.PNG? [y]es, [n]o, [A]ll, [N]one, [r]ename: n\n",
            "replace data/Class3/Test/0461.PNG? [y]es, [n]o, [A]ll, [N]one, [r]ename: n\n",
            "replace __MACOSX/data/Class3/Test/._0461.PNG? [y]es, [n]o, [A]ll, [N]one, [r]ename: n\n",
            "replace data/Class3/Test/0307.PNG? [y]es, [n]o, [A]ll, [N]one, [r]ename: n\n",
            "replace __MACOSX/data/Class3/Test/._0307.PNG? [y]es, [n]o, [A]ll, [N]one, [r]ename: n\n",
            "replace data/Class3/Test/0449.PNG? [y]es, [n]o, [A]ll, [N]one, [r]ename: "
          ],
          "name": "stdout"
        }
      ]
    },
    {
      "metadata": {
        "id": "w_-5AVwxm7d5",
        "colab_type": "code",
        "colab": {
          "base_uri": "https://localhost:8080/",
          "height": 35
        },
        "outputId": "fe7b759e-4613-46c2-88e0-1847b291da3c"
      },
      "cell_type": "code",
      "source": [
        "# You should be able to see 7 Classes here\n",
        "!ls data"
      ],
      "execution_count": 155,
      "outputs": [
        {
          "output_type": "stream",
          "text": [
            "Class1\tClass2\tClass3\tClass4\tClass5\tClass6\tClass7\n"
          ],
          "name": "stdout"
        }
      ]
    },
    {
      "metadata": {
        "id": "HkvMl2Mt-BrB",
        "colab_type": "text"
      },
      "cell_type": "markdown",
      "source": [
        "Sample Output : Class1 Class2\tClass3\tClass4\tClass5\tClass6\tClass7"
      ]
    },
    {
      "metadata": {
        "id": "H-GSOCv7ImGM",
        "colab_type": "text"
      },
      "cell_type": "markdown",
      "source": [
        "# Main Notebook"
      ]
    },
    {
      "metadata": {
        "id": "2p453M9kewcU",
        "colab_type": "code",
        "colab": {
          "base_uri": "https://localhost:8080/",
          "height": 35
        },
        "outputId": "12d390c4-aea5-4137-c80a-829ff84657e2"
      },
      "cell_type": "code",
      "source": [
        "import os\n",
        "import sys\n",
        "import time\n",
        "import warnings\n",
        "from random import shuffle\n",
        "\n",
        "import numpy as np\n",
        "import pandas as pd\n",
        "from keras.callbacks import ModelCheckpoint, EarlyStopping\n",
        "from keras.optimizers import Adam\n",
        "from tensorflow.python.lib.io import file_io\n",
        "from skimage.transform import resize\n",
        "import numpy as np\n",
        "import keras\n",
        "from keras import backend as K\n",
        "import cv2\n",
        "\n",
        "warnings.filterwarnings(\"ignore\")\n"
      ],
      "execution_count": 3,
      "outputs": [
        {
          "output_type": "stream",
          "text": [
            "Using TensorFlow backend.\n"
          ],
          "name": "stderr"
        }
      ]
    },
    {
      "metadata": {
        "id": "P6Rilzb2Lnhz",
        "colab_type": "text"
      },
      "cell_type": "markdown",
      "source": [
        "# Data Loading"
      ]
    },
    {
      "metadata": {
        "id": "PFUOmRq1hChy",
        "colab_type": "code",
        "colab": {}
      },
      "cell_type": "code",
      "source": [
        "# Not all data in the dataset has defects. We only use the images which have defects\n",
        "# This function takes the dataset_type as a parameter. You can pass \"Train\" or \"Test\"\n",
        "# as argument to get the appropriate dataset\n",
        "def load_data(dataset_type=\"Train\"):\n",
        "    file_list = {}\n",
        "    defect_map = {}\n",
        "    file_name = []\n",
        "    file_mask = []\n",
        "    count = 0\n",
        "    num_classes = 6\n",
        "\n",
        "    data_dir = \"data\"\n",
        "    for x in range(1, num_classes + 1):\n",
        "        path = os.path.join(os.path.join(data_dir, \"Class\" + str(x)), dataset_type)\n",
        "        df = pd.read_fwf(path + \"/Label/Labels.txt\")\n",
        "        count = 0\n",
        "        for i in range(0, len(df)):\n",
        "            curr_file = path + \"/\" + str(df.iloc[i][2])\n",
        "            if (df.iloc[i][1] == 1):\n",
        "                file_list[curr_file] = path + \"/Label/\" + str(df.iloc[i][4])\n",
        "                defect_map[curr_file] = 1\n",
        "            else:\n",
        "                fnametest = str(df.iloc[i][2]).split(\".\")\n",
        "                file_list[curr_file] = str(path + \"/Label/\" + fnametest[0] + \"_label.PNG\")\n",
        "                defect_map[curr_file] = 0\n",
        "\n",
        "    items = list(file_list.keys())\n",
        "    shuffle(items)\n",
        "    for key in items:\n",
        "        if ((not os.path.exists(key)) or (not os.path.exists(file_list[key]))):\n",
        "            # print (\"Missing mask for \", key)\n",
        "            continue\n",
        "\n",
        "        if defect_map[key] == 1:\n",
        "            file_name.append(key)\n",
        "            file_mask.append(file_list[key])\n",
        "        elif count < 80 * num_classes:\n",
        "            file_name.append(key)\n",
        "            file_mask.append(file_list[key])\n",
        "            count = count + 1\n",
        "\n",
        "    return file_name, file_mask"
      ],
      "execution_count": 0,
      "outputs": []
    },
    {
      "metadata": {
        "id": "YMvNNG8nLq1N",
        "colab_type": "text"
      },
      "cell_type": "markdown",
      "source": [
        "Since the dataset is so large that it cannot fit into memory, we will need to use generator functions to iteratively load the dataset"
      ]
    },
    {
      "metadata": {
        "id": "0AO5Je2_iyjI",
        "colab_type": "code",
        "colab": {}
      },
      "cell_type": "code",
      "source": [
        "# This is generator class to process data in batches and send them for training\n",
        "class Surface_Generator(keras.utils.Sequence):\n",
        "\n",
        "    def __init__(self, image_filenames, labels, batch_size, test=False):\n",
        "        self.image_filenames, self.labels = image_filenames, labels\n",
        "        self.batch_size = batch_size\n",
        "\n",
        "    # return the total number of batches you have i.e., total_files/batch_size\n",
        "    def __len__(self):\n",
        "        # YOUR CODE HERE\n",
        "        return len(self.image_filenames) // self.batch_size\n",
        "\n",
        "    # this function is called for every mini-batch to get the images/masks for that mini-batch\n",
        "    def __getitem__(self, idx):\n",
        "        batch_x = self.image_filenames[idx * self.batch_size:(idx + 1) * self.batch_size]\n",
        "        batch_y = self.labels[idx * self.batch_size:(idx + 1) * self.batch_size]\n",
        "        image_arr = []\n",
        "        mask_arr = []\n",
        "        # Open a batch of images and their corresponding masks using cv2.imread\n",
        "        # resize them to 512x512x1 and return an np.array of images and masks\n",
        "        # YOUR CODE HERE\n",
        "        image_arr = [resize(cv2.imread(filename,0), (512, 512, 1)) for filename in batch_x]\n",
        "        mask_arr =  [resize(cv2.imread(mask,0), (512, 512, 1)) for mask in batch_y]\n",
        "\n",
        "        return np.array(image_arr).astype(np.float32), np.array(mask_arr).astype(np.float32)\n",
        "    \n",
        "    # for testing we need to get the list of all true masks\n",
        "    # this function should return all the labels in the dataset set \n",
        "    # we will call this function only for the \"Test\" dataset\n",
        "    def get_all_masks(self):\n",
        "        mask_arr = []\n",
        "        \n",
        "        # YOUR CODE HERE\n",
        "        mask_arr = [resize(cv2.imread(mask), (512, 512, 1)) for mask in self.labels]\n",
        "\n",
        "        return np.array(mask_arr).astype(np.float32)\n"
      ],
      "execution_count": 0,
      "outputs": []
    },
    {
      "metadata": {
        "id": "dt-r8DWtiXb8",
        "colab_type": "code",
        "colab": {}
      },
      "cell_type": "code",
      "source": [
        "# Since we already have a split for training and test set,\n",
        "# we just need to split training set to get a validation set\n",
        "\n",
        "# Load training data\n",
        "X, Y = load_data(\"Train\")"
      ],
      "execution_count": 0,
      "outputs": []
    },
    {
      "metadata": {
        "id": "yCCf5m26iZ4-",
        "colab_type": "code",
        "colab": {
          "base_uri": "https://localhost:8080/",
          "height": 35
        },
        "outputId": "bebfcc55-10a9-4605-c572-bf7fac91e9f2"
      },
      "cell_type": "code",
      "source": [
        "# Split the original training data to get training and validation set\n",
        "# to get X_train, X_val, y_train, y_val\n",
        "# YOUR CODE HERE\n",
        "from sklearn.model_selection import train_test_split\n",
        "X_train, X_val, y_train, y_val = train_test_split(X, Y, test_size=0.2)\n",
        "\n",
        "\n",
        "# Convert to numpy arrays\n",
        "# YOUR CODE HERE\n",
        "X_train, X_val, y_train, y_val = np.array(X_train), np.array(X_val), np.array(y_train), np.array(y_val)\n",
        "\n",
        "\n",
        "print(X_train.shape, y_train.shape, X_val.shape, y_val.shape)"
      ],
      "execution_count": 7,
      "outputs": [
        {
          "output_type": "stream",
          "text": [
            "(740,) (740,) (186,) (186,)\n"
          ],
          "name": "stdout"
        }
      ]
    },
    {
      "metadata": {
        "id": "pzVG7OlIKzPC",
        "colab_type": "text"
      },
      "cell_type": "markdown",
      "source": [
        "The output shape after the split should be \n",
        "(740,) (740,) (186,) (186,)"
      ]
    },
    {
      "metadata": {
        "id": "TuWAS7_Qt7xw",
        "colab_type": "code",
        "colab": {
          "base_uri": "https://localhost:8080/",
          "height": 35
        },
        "outputId": "c3161e44-94b0-4509-d272-bd7271381e98"
      },
      "cell_type": "code",
      "source": [
        "# Free memory\n",
        "import gc\n",
        "del X\n",
        "del Y\n",
        "gc.collect()"
      ],
      "execution_count": 8,
      "outputs": [
        {
          "output_type": "execute_result",
          "data": {
            "text/plain": [
              "40"
            ]
          },
          "metadata": {
            "tags": []
          },
          "execution_count": 8
        }
      ]
    },
    {
      "metadata": {
        "id": "Pg95L-qULPUY",
        "colab_type": "text"
      },
      "cell_type": "markdown",
      "source": [
        "# Metrics\n",
        "\n",
        "Use keras.backend to calculate dice coefficient metric and dice coefficient loss function.\n",
        "\n",
        "Recall that dice_coeff = 2 \\* intersection / union\n",
        "\n",
        "We add a smoothing parameter and modify the formula to\n",
        "\n",
        "dice_coeff = 2 \\* (intersection + smooth) / (union + smooth)\n",
        "\n",
        "Our objective is to make dice_coeff as close to 1.0 as possible. \n",
        "Define and use the appropriate loss function."
      ]
    },
    {
      "metadata": {
        "id": "JwdFSKS-jB8S",
        "colab_type": "code",
        "colab": {}
      },
      "cell_type": "code",
      "source": [
        "# Dice Coefficient metric\n",
        "def dice_coef(y_true, y_pred):\n",
        "    smooth = 1\n",
        "    # YOUR CODE HERE\n",
        "    y_true_f = K.flatten(y_true)\n",
        "    y_pred_f = K.flatten(y_pred)\n",
        "    intersection = K.sum(y_true * y_pred)\n",
        "    return (2. * intersection + smooth) / (K.sum(K.square(y_true),-1) + K.sum(K.square(y_pred),-1) + smooth)\n",
        "\n",
        "\n",
        "# Dice Coefficient loss\n",
        "def dice_coef_loss(y_true, y_pred):\n",
        "    # YOUR CODE HERE\n",
        "    return 1 - dice_coef(y_true, y_pred)"
      ],
      "execution_count": 0,
      "outputs": []
    },
    {
      "metadata": {
        "id": "Pynq8QkQMQfV",
        "colab_type": "text"
      },
      "cell_type": "markdown",
      "source": [
        "# Model\n",
        "\n",
        "U-net architeture has proved to be very powerful for segmentation tasks.\n",
        "\n",
        "We will be creating a Unet model based on the paper : \n",
        "\n",
        "[U-Net: Convolutional Networks for Biomedical Image Segmentation](https://arxiv.org/pdf/1505.04597.pdf)\n",
        "\n",
        "---\n",
        "\n",
        "A picture of the architecture we plan to use is provided in the project description pdf.\n",
        "\n",
        "We will create a Convolutional block module to help us build the model.\n",
        "\n",
        "Each convolutional block module will contain two trainable layers. \n",
        "\n",
        "Each layer will be a Convolution operation followed by batch normalization with relu activation.\n",
        "\n",
        "\n",
        "\n",
        "The U-net architecture has a contracting path, a convolution and then an expansive path.\n",
        "\n",
        "We will use instances of the convolutional block to create the contracting and expansive path."
      ]
    },
    {
      "metadata": {
        "id": "NmHn08ChjWNq",
        "colab_type": "code",
        "colab": {}
      },
      "cell_type": "code",
      "source": [
        "from keras.layers import Conv2DTranspose, Dropout, Activation, BatchNormalization, UpSampling2D, Concatenate\n",
        "from keras.layers import Input, Conv2D, MaxPooling2D, concatenate\n",
        "from keras.models import Model\n",
        "\n",
        "# Create a 2D convolution block. We will use multiple instances of this block to build our U-net model\n",
        "# This block will contain two layers. \n",
        "# Each layer will be a Convolution operation followed by batch normalization with relu activation \n",
        "def conv2d_block(input_tensor, n_filters, kernel_size):\n",
        "    # first layer\n",
        "    # Create a Conv2D layer with n_filters and a kernel of dimension : kernel_size x kernel_size. \n",
        "    # Use same padding and he_normal initializer\n",
        "    # YOUR CODE HERE\n",
        "    x = Conv2D(n_filters, (kernel_size, kernel_size), kernel_initializer='he_normal', padding=\"same\")(input_tensor)\n",
        "\n",
        "    \n",
        "    # add a BatchNormalization layer\n",
        "    # YOUR CODE HERE\n",
        "    x = BatchNormalization()(x)\n",
        "        \n",
        "    # Add a relu non-linearity (keras.layers.Activation)\n",
        "    # YOUR CODE HERE\n",
        "    x = Activation('relu')(x)\n",
        "    \n",
        "    # second layer\n",
        "    # repeat the above steps (Conv + batchnorm + relu) taking the output of relu layer as input for this convolutional layer\n",
        "    # YOUR CODE HERE\n",
        "    x = Conv2D(n_filters, kernel_size = (kernel_size, kernel_size), strides=(1, 1), padding = 'same', kernel_initializer='he_normal')(x)\n",
        "    x = BatchNormalization()(x)\n",
        "    x = Activation('relu')(x)\n",
        "    \n",
        "    # return the output tensor\n",
        "    return x\n",
        "\n",
        "\n",
        "def get_unet_model(n_filters=16, dropout_prob=0.5, kernel_size=3):\n",
        "    input_img = Input((512, 512, 1))\n",
        "    \n",
        "    # contracting path\n",
        "    # create a convolutional block with input_img as the input tensor and n_filters\n",
        "    # YOUR CODE HERE\n",
        "    c1 = conv2d_block(input_img, n_filters, kernel_size)\n",
        "\n",
        "    # apply a 2d maxpooling with a pool size of 2x2\n",
        "    # YOUR CODE HERE\n",
        "    p1 = MaxPooling2D(pool_size=(2, 2))(c1)\n",
        "\n",
        "    # add a dropout. Since this the input, set the dropout rate to 0.5 * dropout_prob\n",
        "    # YOUR CODE HERE\n",
        "    p1 = Dropout(0.5 * dropout_prob)(p1)\n",
        "\n",
        "\n",
        "    # create another convolutional block. this time use p1 as input tensor and twice the n_filters\n",
        "    # repeat the same maxpool and dropout but set dropout rate to dropout_prob this time\n",
        "    # YOUR CODE HERE\n",
        "    c2 = conv2d_block(p1, 2 * n_filters, kernel_size)\n",
        "    p2 = MaxPooling2D(pool_size=(2, 2))(c2)\n",
        "    p2 = Dropout(dropout_prob)(p2)\n",
        "\n",
        "    # create another block with maxpool and dropout with 4 x n_filters\n",
        "    # YOUR CODE HERE\n",
        "    c3 = conv2d_block(p2, 4 * n_filters, kernel_size)\n",
        "    p3 = MaxPooling2D(pool_size=(2, 2))(c3)\n",
        "    p3 = Dropout(dropout_prob)(p3)\n",
        "\n",
        "    # create another block with maxpool and dropout with 8 x n_filters\n",
        "    # YOUR CODE HERE\n",
        "    c4 = conv2d_block(p3, 8 * n_filters, kernel_size)\n",
        "    p4 = MaxPooling2D(pool_size=(2, 2))(c4)\n",
        "    p4 = Dropout(dropout_prob)(p4)\n",
        "\n",
        "\n",
        "    # This is the layer where we combine the contractive and expansive paths\n",
        "    # create a convolutional block with 16 x n_filters. No pooling/dropout this time\n",
        "    # YOUR CODE HERE\n",
        "    c5 = conv2d_block(p4, 16 * n_filters, kernel_size)\n",
        "\n",
        "    \n",
        "    # Expansive path\n",
        "\n",
        "    # We will create a similar structure as the contracting path but instead of \n",
        "    # convolutional operation, we will use Deconvolution operations\n",
        "\n",
        "    # Create a Conv2DTranspose layer (deconvolution) with 8 x n_filters, kernel_size, \n",
        "    # 2x2 strides and same padding\n",
        "    # YOUR CODE HERE\n",
        "    u6 = Conv2DTranspose(filters=8 * n_filters, kernel_size=(kernel_size, kernel_size), strides=(2, 2), padding='same')(c5)\n",
        "\n",
        "\n",
        "    # Concatenate u6 and c4 using keras.layers.concatenate\n",
        "    # YOUR CODE HERE\n",
        "    u6 = concatenate([u6,c4])\n",
        "    \n",
        "    # dropout\n",
        "    # YOUR CODE HERE\n",
        "    u6 = Dropout(dropout_prob)(u6)\n",
        "    \n",
        "    # create a convolutional block with 8 x n_filters\n",
        "    # YOUR CODE HERE\n",
        "    c6 = conv2d_block(u6, 8 * n_filters, kernel_size)\n",
        "    \n",
        "\n",
        "    # Create a similar module as previous, deconv, concatenate, dropout, conv2d_block\n",
        "    # Please ensure that the number of filters you use match the n_filters of \n",
        "    # the layer you are concatenating with\n",
        "    # YOUR CODE HERE\n",
        "    u7 = Conv2DTranspose(filters=4 * n_filters, kernel_size=(kernel_size, kernel_size), strides=(2, 2), padding='same')(c6)\n",
        "    u7 = concatenate([u7,c3])\n",
        "    u7 = Dropout(dropout_prob)(u7)\n",
        "    c7 = conv2d_block(u7, 4 * n_filters, kernel_size)\n",
        "    \n",
        "    # Create a similar module as previous, deconv, concatenate, dropout, conv2d_block\n",
        "    # YOUR CODE HERE\n",
        "    u8 = Conv2DTranspose(filters=2 * n_filters, kernel_size=(kernel_size, kernel_size), strides=(2, 2), padding='same')(c7)\n",
        "    u8 = concatenate([u8,c2])\n",
        "    u8 = Dropout(dropout_prob)(u8)\n",
        "    c8 = conv2d_block(u8, 2 * n_filters, kernel_size)\n",
        "\n",
        "\n",
        "    # Create a similar module as previous, deconv, concatenate, dropout, conv2d_block\n",
        "    # YOUR CODE HERE\n",
        "    u9 = Conv2DTranspose(filters=n_filters, kernel_size=(kernel_size, kernel_size), strides=(2, 2), padding='same')(c8)\n",
        "    u9 = concatenate([u9,c1])\n",
        "    u9 = Dropout(dropout_prob)(u9)\n",
        "    c9 = conv2d_block(u9, n_filters, kernel_size)\n",
        "\n",
        "    # apply a 1x1 convolution on c9 to get an output with a single channel\n",
        "    # This is the final model output. We want the pixel values in the mask to be\n",
        "    # either 0 or 1. Choose an activation function which can give values in that\n",
        "    # range.\n",
        "    # YOUR CODE HERE\n",
        "    outputs = Conv2D(1, (1, 1), activation='softmax')(c9)\n",
        "\n",
        "    model = Model(inputs=[input_img], outputs=[outputs])\n",
        "\n",
        "    return model"
      ],
      "execution_count": 0,
      "outputs": []
    },
    {
      "metadata": {
        "id": "9JBg48_qiQ_R",
        "colab_type": "code",
        "colab": {
          "base_uri": "https://localhost:8080/",
          "height": 141
        },
        "outputId": "9d07a5ad-ed75-412f-bd1e-c0fdcd726f90"
      },
      "cell_type": "code",
      "source": [
        "model_name = \"unet\"\n",
        "model = get_unet_model()"
      ],
      "execution_count": 11,
      "outputs": [
        {
          "output_type": "stream",
          "text": [
            "WARNING:tensorflow:From /usr/local/lib/python3.6/dist-packages/tensorflow/python/framework/op_def_library.py:263: colocate_with (from tensorflow.python.framework.ops) is deprecated and will be removed in a future version.\n",
            "Instructions for updating:\n",
            "Colocations handled automatically by placer.\n",
            "WARNING:tensorflow:From /usr/local/lib/python3.6/dist-packages/keras/backend/tensorflow_backend.py:3445: calling dropout (from tensorflow.python.ops.nn_ops) with keep_prob is deprecated and will be removed in a future version.\n",
            "Instructions for updating:\n",
            "Please use `rate` instead of `keep_prob`. Rate should be set to `rate = 1 - keep_prob`.\n"
          ],
          "name": "stdout"
        }
      ]
    },
    {
      "metadata": {
        "id": "motKXf_TiUKg",
        "colab_type": "code",
        "colab": {}
      },
      "cell_type": "code",
      "source": [
        "batch_size = 8\n",
        "num_epochs = 50\n",
        "# Compile the model\n",
        "model.compile(loss=dice_coef_loss, optimizer=Adam(lr=0.0055), metrics=[dice_coef])"
      ],
      "execution_count": 0,
      "outputs": []
    },
    {
      "metadata": {
        "id": "ewQjQjWyqq-e",
        "colab_type": "code",
        "colab": {}
      },
      "cell_type": "code",
      "source": [
        "# Create generator objects for training and validation\n",
        "num_training_samples = len(X_train)\n",
        "num_validation_samples = len(X_val)\n",
        "# YOUR CODE HERE\n",
        "training_batch_generator = Surface_Generator(X_train, y_train, batch_size)\n",
        "validation_batch_generator = Surface_Generator(X_train, y_train, batch_size)"
      ],
      "execution_count": 0,
      "outputs": []
    },
    {
      "metadata": {
        "id": "_otO9PPuq2ED",
        "colab_type": "code",
        "colab": {}
      },
      "cell_type": "code",
      "source": [
        "# OPTIONAL\n",
        "# callbacks for saving models and early stopping\n",
        "checkpointer = ModelCheckpoint(model_name + \"/weights.{epoch:02d}-{val_loss:.2f}.hdf5\", monitor=dice_coef, verbose=1,\n",
        "                               save_best_only=True, mode='max')\n",
        "early_stopping = EarlyStopping(monitor='val_loss', min_delta=0, patience=10, verbose=1, mode='auto')"
      ],
      "execution_count": 0,
      "outputs": []
    },
    {
      "metadata": {
        "id": "63cNn_B6q4fb",
        "colab_type": "code",
        "colab": {
          "base_uri": "https://localhost:8080/",
          "height": 661
        },
        "outputId": "8af65d0b-3008-4675-9a2d-552b79353210"
      },
      "cell_type": "code",
      "source": [
        "# Fit model\n",
        "# This will take ~1.5-2 minutes per epoch on a GPU\n",
        "stmillis = int(round(time.time() * 1000))\n",
        "history = model.fit_generator(generator=training_batch_generator,\n",
        "                    steps_per_epoch=(num_training_samples // batch_size),\n",
        "                    epochs=num_epochs,\n",
        "                    verbose=1,\n",
        "                    validation_data=validation_batch_generator,\n",
        "                    validation_steps=(num_validation_samples // batch_size),\n",
        "                    use_multiprocessing=True,\n",
        "                    workers=5,\n",
        "                    max_queue_size=1,\n",
        "                    callbacks=[checkpointer, early_stopping])\n",
        "endmillis = int(round(time.time() * 1000))\n",
        "print(\"Time taken: \", endmillis - stmillis)"
      ],
      "execution_count": 15,
      "outputs": [
        {
          "output_type": "stream",
          "text": [
            "WARNING:tensorflow:From /usr/local/lib/python3.6/dist-packages/tensorflow/python/ops/math_ops.py:3066: to_int32 (from tensorflow.python.ops.math_ops) is deprecated and will be removed in a future version.\n",
            "Instructions for updating:\n",
            "Use tf.cast instead.\n",
            "WARNING:tensorflow:From /usr/local/lib/python3.6/dist-packages/tensorflow/python/ops/math_grad.py:102: div (from tensorflow.python.ops.math_ops) is deprecated and will be removed in a future version.\n",
            "Instructions for updating:\n",
            "Deprecated in favor of operator or tf.math.divide.\n",
            "Epoch 1/50\n",
            "91/92 [============================>.] - ETA: 1s - loss: -33354.5750 - dice_coef: 33355.5906\n",
            "92/92 [==============================] - 103s 1s/step - loss: -33702.4450 - dice_coef: 33703.4648 - val_loss: -35021.1582 - val_dice_coef: 35022.2078\n",
            "Epoch 2/50\n",
            "92/92 [==============================] - 90s 975ms/step - loss: -33702.4450 - dice_coef: 33703.4648 - val_loss: -36427.2782 - val_dice_coef: 36428.1836\n",
            "Epoch 3/50\n",
            "92/92 [==============================] - 89s 972ms/step - loss: -33702.4450 - dice_coef: 33703.4648 - val_loss: -27771.3582 - val_dice_coef: 27772.3953\n",
            "Epoch 4/50\n",
            "91/92 [============================>.] - ETA: 0s - loss: -33609.2862 - dice_coef: 33610.3067\n",
            "92/92 [==============================] - 89s 968ms/step - loss: -33702.4450 - dice_coef: 33703.4648 - val_loss: -35589.9855 - val_dice_coef: 35591.0724\n",
            "Epoch 5/50\n",
            "92/92 [==============================] - 90s 978ms/step - loss: -33702.4450 - dice_coef: 33703.4648 - val_loss: -35021.1582 - val_dice_coef: 35022.2078\n",
            "Epoch 6/50\n",
            "92/92 [==============================] - 90s 980ms/step - loss: -33702.4450 - dice_coef: 33703.4648 - val_loss: -36427.2782 - val_dice_coef: 36428.1836\n",
            "Epoch 7/50\n",
            "92/92 [==============================] - 90s 974ms/step - loss: -33702.4450 - dice_coef: 33703.4648 - val_loss: -27771.3582 - val_dice_coef: 27772.3953\n",
            "Epoch 8/50\n",
            "91/92 [============================>.] - ETA: 0s - loss: -33661.7379 - dice_coef: 33662.7622Epoch 5/50\n",
            "92/92 [==============================] - 90s 975ms/step - loss: -33702.4450 - dice_coef: 33703.4648 - val_loss: -35589.9855 - val_dice_coef: 35591.0724\n",
            "Epoch 9/50\n",
            "92/92 [==============================] - 91s 988ms/step - loss: -33702.4450 - dice_coef: 33703.4648 - val_loss: -35021.1582 - val_dice_coef: 35022.2078\n",
            "Epoch 10/50\n",
            "92/92 [==============================] - 89s 973ms/step - loss: -33702.4450 - dice_coef: 33703.4648 - val_loss: -36427.2782 - val_dice_coef: 36428.1836\n",
            "Epoch 11/50\n",
            "92/92 [==============================] - 90s 978ms/step - loss: -33702.4450 - dice_coef: 33703.4648 - val_loss: -27771.3582 - val_dice_coef: 27772.3953\n",
            "Epoch 12/50\n",
            "91/92 [============================>.] - ETA: 0s - loss: -33432.3410 - dice_coef: 33433.3563Epoch 9/50\n",
            "92/92 [==============================] - 90s 977ms/step - loss: -33702.4450 - dice_coef: 33703.4648 - val_loss: -35589.9855 - val_dice_coef: 35591.0724\n",
            "Epoch 00012: early stopping\n",
            "Time taken:  1095127\n"
          ],
          "name": "stdout"
        }
      ]
    },
    {
      "metadata": {
        "id": "3brG4OSvidg-",
        "colab_type": "code",
        "colab": {}
      },
      "cell_type": "code",
      "source": [
        "# Save the trained weights\n",
        "model.save(model_name + \".h5\")\n",
        "\n",
        "# Save model config as json\n",
        "model_json = model.to_json()\n",
        "with open(model_name + \".json\", \"w\") as json_file:\n",
        "    json_file.write(model_json)\n",
        "\n",
        "# Persist the model to your google drive [VERY IMPORTANT]\n",
        "!cp unet.* gdrive/My\\ Drive/"
      ],
      "execution_count": 0,
      "outputs": []
    },
    {
      "metadata": {
        "id": "gyQIv8vP-Bvr",
        "colab_type": "code",
        "colab": {
          "base_uri": "https://localhost:8080/",
          "height": 52
        },
        "outputId": "ff86bb2f-72f7-4bd3-c103-902809c22c22"
      },
      "cell_type": "code",
      "source": [
        "# Confirm if model did get saved\n",
        "!ls -ltr gdrive/My\\ Drive/unet*"
      ],
      "execution_count": 17,
      "outputs": [
        {
          "output_type": "stream",
          "text": [
            "-rw------- 1 root root    33712 Apr 15 03:27 'gdrive/My Drive/unet.json'\n",
            "-rw------- 1 root root 26259744 Apr 15 03:27 'gdrive/My Drive/unet.h5'\n"
          ],
          "name": "stdout"
        }
      ]
    },
    {
      "metadata": {
        "id": "oXpPThkeAp30",
        "colab_type": "code",
        "colab": {}
      },
      "cell_type": "code",
      "source": [
        "# In case you wish to load your saved model\n",
        "!cp gdrive/My\\ Drive/unet* .\n",
        "\n",
        "model.load_weights(\"unet.h5\")"
      ],
      "execution_count": 0,
      "outputs": []
    },
    {
      "metadata": {
        "id": "hfVKLvOSinhR",
        "colab_type": "code",
        "colab": {
          "base_uri": "https://localhost:8080/",
          "height": 35
        },
        "outputId": "063e05b6-5e6f-4215-b2b9-91adcece9d3e"
      },
      "cell_type": "code",
      "source": [
        "import gc\n",
        "gc.collect()\n",
        "\n",
        "# Load test data in X_test and y_test\n",
        "# YOUR CODE HERE\n",
        "X_test, y_test = load_data(\"Test\")\n",
        "X_test, y_test = np.array(X_test), np.array(y_test)\n",
        "\n",
        "print (X_test.shape, y_test.shape)"
      ],
      "execution_count": 19,
      "outputs": [
        {
          "output_type": "stream",
          "text": [
            "(454,) (454,)\n"
          ],
          "name": "stdout"
        }
      ]
    },
    {
      "metadata": {
        "id": "T6Z-UydF9wFR",
        "colab_type": "text"
      },
      "cell_type": "markdown",
      "source": [
        "Output shape should be (454,) (454,)"
      ]
    },
    {
      "metadata": {
        "id": "xDvVIz7eVDeJ",
        "colab_type": "text"
      },
      "cell_type": "markdown",
      "source": [
        "[OPTIONAL] Shuffle and select 25 elements for quick testing\n"
      ]
    },
    {
      "metadata": {
        "id": "JW2AcXfX4ok1",
        "colab_type": "code",
        "colab": {}
      },
      "cell_type": "code",
      "source": [
        "np.random.seed = 629\n",
        "p = np.random.permutation(len(X_test))\n",
        "X_test = X_test[p]\n",
        "y_test = y_test[p]\n",
        "\n",
        "#X_test = X_test[:25]\n",
        "#y_test = y_test[:25]"
      ],
      "execution_count": 0,
      "outputs": []
    },
    {
      "metadata": {
        "id": "WUDhmrOnzd1J",
        "colab_type": "code",
        "colab": {}
      },
      "cell_type": "code",
      "source": [
        "# Predict using model.predict_generator().\n",
        "# YOUR CODE HERE\n",
        "test_data_generator = Surface_Generator(X_test, y_test, batch_size)\n",
        "y_pred = model.predict_generator(test_data_generator)"
      ],
      "execution_count": 0,
      "outputs": []
    },
    {
      "metadata": {
        "id": "y2yJe5T40aws",
        "colab_type": "code",
        "colab": {}
      },
      "cell_type": "code",
      "source": [
        "# y_true will have the true masks\n",
        "y_true = test_data_generator.get_all_masks()\n",
        "print (\"Dice coefficient on test data: \", K.get_value(dice_coef(y_true, y_pred)))"
      ],
      "execution_count": 0,
      "outputs": []
    },
    {
      "metadata": {
        "id": "rq51uM6fUoo8",
        "colab_type": "text"
      },
      "cell_type": "markdown",
      "source": [
        "The dice coefficient on test data should be close to 0.7\n",
        "\n"
      ]
    },
    {
      "metadata": {
        "id": "TVuJ6cCTfeXB",
        "colab_type": "text"
      },
      "cell_type": "markdown",
      "source": [
        "Visulaizing the mask for a random image"
      ]
    },
    {
      "metadata": {
        "id": "kn447ZCDfAUd",
        "colab_type": "code",
        "colab": {}
      },
      "cell_type": "code",
      "source": [
        "# Convert sigmoid outputs to binary class labels\n",
        "y_pred[20][y_pred[20] >= 0.5] = 1\n",
        "y_pred[20][y_pred[20] < 0.5] = 0"
      ],
      "execution_count": 0,
      "outputs": []
    },
    {
      "metadata": {
        "id": "HmUZiALBJcie",
        "colab_type": "code",
        "colab": {}
      },
      "cell_type": "code",
      "source": [
        "import matplotlib.pyplot as plt\n",
        "plt.imshow(y_true[20][:,:,0], cmap='gray')\n",
        "plt.show()"
      ],
      "execution_count": 0,
      "outputs": []
    },
    {
      "metadata": {
        "id": "pn5Fkv9-JDiX",
        "colab_type": "code",
        "colab": {}
      },
      "cell_type": "code",
      "source": [
        "plt.imshow(y_pred[20][:,:,0], cmap='gray')\n",
        "plt.show()"
      ],
      "execution_count": 0,
      "outputs": []
    },
    {
      "metadata": {
        "id": "isCQ_Cxpehpj",
        "colab_type": "code",
        "colab": {}
      },
      "cell_type": "code",
      "source": [
        "# Dice coefficient on this example\n",
        "K.get_value(dice_coef(y_true[20], y_pred[20]))"
      ],
      "execution_count": 0,
      "outputs": []
    },
    {
      "metadata": {
        "id": "Z9PebgnFu3Yu",
        "colab_type": "text"
      },
      "cell_type": "markdown",
      "source": [
        "Data augmentation techniques almost always help in improving the performance of deep learning models.\n",
        "\n",
        "\n",
        "Try beating the result obtained above by doing some kind of data augmentation and leave the code/results in the jupyter file.\n",
        "\n",
        "Provide the dice coefficient obtained on the new model trained with data augmentation.\n",
        "\n",
        "---\n",
        "\n",
        "# Experimentation Zone\n",
        "You may write any custom code here. The data augmentation part will be evaluated from this region."
      ]
    },
    {
      "metadata": {
        "id": "mFL6rvc4yUPp",
        "colab_type": "code",
        "colab": {}
      },
      "cell_type": "code",
      "source": [
        ""
      ],
      "execution_count": 0,
      "outputs": []
    }
  ]
}